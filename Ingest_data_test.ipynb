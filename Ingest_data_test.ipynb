{
 "cells": [
  {
   "cell_type": "code",
   "execution_count": 1,
   "id": "b2b48d21",
   "metadata": {},
   "outputs": [],
   "source": [
    "print('Data Ingestion has started...')"
   ]
  },
  {
   "cell_type": "code",
   "execution_count": 2,
   "id": "af39c684",
   "metadata": {},
   "outputs": [],
   "source": [
    "import pandas as pd\n",
    "import sqlalchemy\n",
    "from sqlalchemy import create_engine\n",
    "import boto3\n",
    "from botocore import UNSIGNED\n",
    "from botocore.client import Config\n",
    "from dotenv import load_dotenv\n",
    "import os\n",
    "import psycopg2\n",
    "\n",
    "print('All dependencies imported')"
   ]
  },
  {
   "cell_type": "code",
   "execution_count": 3,
   "id": "dd3fcc5e",
   "metadata": {},
   "outputs": [
    {
     "name": "stdout",
     "output_type": "stream",
     "text": [
      "File: orders_data/\n",
      "File: orders_data/analytics_export/faitusie8037/agg_public_holiday.csv\n",
      "File: orders_data/analytics_export/faitusie8037/agg_shipments.csv\n",
      "File: orders_data/analytics_export/faitusie8037/best_performing_product.csv\n",
      "File: orders_data/analytics_export/murtodun9658/agg_public_holiday.csv\n",
      "File: orders_data/analytics_export/murtodun9658/agg_shipments.csv\n",
      "File: orders_data/analytics_export/murtodun9658/best_performing_product.csv\n",
      "File: orders_data/analytics_export/murtodun9658/late_shipments.csv\n",
      "File: orders_data/analytics_export/murtodun9658/undelivered_shipments.csv\n",
      "File: orders_data/analytics_export/salimuti8986/agg_public_holiday.csv\n",
      "File: orders_data/analytics_export/salimuti8986/agg_shipments.csv\n",
      "File: orders_data/analytics_export/salimuti8986/best_performing_product.csv\n",
      "File: orders_data/orders.csv\n",
      "File: orders_data/reviews.csv\n",
      "File: orders_data/shipment_deliveries.csv\n"
     ]
    }
   ],
   "source": [
    "s3 = boto3.client('s3', config=Config(signature_version=UNSIGNED))\n",
    "bucket_name = \"d2b-internal-assessment-bucket\"\n",
    "\n",
    "# List all objects in the bucket\n",
    "response = s3.list_objects(Bucket=bucket_name, Prefix=\"orders_data\")\n",
    "\n",
    "# Check if there are any objects in the response\n",
    "if 'Contents' in response:\n",
    "    # Loop through each object and print its key\n",
    "    for obj in response['Contents']:\n",
    "        print(\"File:\", obj['Key'])"
   ]
  },
  {
   "cell_type": "code",
   "execution_count": 4,
   "id": "a2527ac6",
   "metadata": {},
   "outputs": [],
   "source": [
    "# Download the orders.csv\n",
    "s3.download_file(bucket_name, \"orders_data/orders.csv\", \"orders.csv\")\n",
    "\n",
    "# Download the reviews.csv\n",
    "s3.download_file(bucket_name, \"orders_data/reviews.csv\", \"reviews.csv\")\n",
    "\n",
    "# Download the orders.csv\n",
    "s3.download_file(bucket_name, \"orders_data/shipment_deliveries.csv\", \"shipment_deliveries.csv\")\n",
    "\n",
    "print('All raw files downloaded')"
   ]
  },
  {
   "cell_type": "code",
   "execution_count": 5,
   "id": "883fe3a3",
   "metadata": {},
   "outputs": [],
   "source": [
    "# Read in fact_orders and format types\n",
    "\n",
    "orders_types = {\n",
    "    'order_id': int,\n",
    "    'customer_id': int,\n",
    "    'product_id': int,\n",
    "    'unit_price': float,\n",
    "    'quantity': int,\n",
    "    'total_price': float\n",
    "    \n",
    "}\n",
    "\n",
    "\n",
    "fact_orders = pd.read_csv('orders.csv', dtype=orders_types, parse_dates=['order_date'])\n"
   ]
  },
  {
   "cell_type": "code",
   "execution_count": 6,
   "id": "a7341076",
   "metadata": {},
   "outputs": [],
   "source": [
    "# Read in fact_reviews and format types\n",
    "\n",
    "reviews_types = {\n",
    "    'review': int,\n",
    "    'product_id': int\n",
    "}\n",
    "\n",
    "fact_reviews = pd.read_csv('reviews.csv', dtype=reviews_types)"
   ]
  },
  {
   "cell_type": "code",
   "execution_count": 7,
   "id": "09153cc5",
   "metadata": {},
   "outputs": [],
   "source": [
    "# Read in fact_shipment_deliveries and format types\n",
    "\n",
    "shipments_types = {\n",
    "    'shipment_id': int,\n",
    "    'order_id': int\n",
    "    \n",
    "}\n",
    "\n",
    "\n",
    "fact_shipment_deliveries = pd.read_csv('shipment_deliveries.csv', dtype=shipments_types, parse_dates=['shipment_date', 'delivery_date'])"
   ]
  },
  {
   "cell_type": "code",
   "execution_count": 8,
   "id": "eb917bbc",
   "metadata": {},
   "outputs": [
    {
     "name": "stdout",
     "output_type": "stream",
     "text": [
      "postgres\n",
      "postgres\n",
      "75.119.135.61\n",
      "d2b_accessment\n"
     ]
    }
   ],
   "source": [
    "# Load environmental variables from the .env file\n",
    "load_dotenv(\"/workspaces/Data2Bots-Assessment/2.env\")\n",
    "\n",
    "\n",
    "# Get the environmental variables\n",
    "PG_USERNAME = os.getenv(\"PG_USERNAME\")\n",
    "PG_PASS = os.getenv(\"PG_PASS\")\n",
    "PG_HOST = os.getenv(\"PG_HOST\")\n",
    "PG_DB = os.getenv(\"PG_DB\")\n"
   ]
  },
  {
   "cell_type": "code",
   "execution_count": 11,
   "id": "f4d3f5ec",
   "metadata": {},
   "outputs": [],
   "source": [
    "# Create PostgreSQL Connection\n",
    "engine = create_engine(f'postgresql://{PG_USERNAME}:{PG_PASS}@{PG_HOST}:5732/{PG_DB}')\n"
   ]
  },
  {
   "cell_type": "code",
   "execution_count": 12,
   "id": "b3cfa720",
   "metadata": {},
   "outputs": [
    {
     "data": {
      "text/plain": [
       "<sqlalchemy.engine.base.Connection at 0x7fc39aef08b0>"
      ]
     },
     "execution_count": 12,
     "metadata": {},
     "output_type": "execute_result"
    }
   ],
   "source": [
    "engine.connect()\n",
    "\n",
    "print('Successfully connected to Database')"
   ]
  },
  {
   "cell_type": "code",
   "execution_count": 68,
   "id": "f060e832",
   "metadata": {},
   "outputs": [
    {
     "data": {
      "text/plain": [
       "1000"
      ]
     },
     "execution_count": 68,
     "metadata": {},
     "output_type": "execute_result"
    }
   ],
   "source": [
    "# Create fact_orders table in Database\n",
    "fact_orders.head(n=0).to_sql(name='fact_orders', con=engine, schema='joshodey2178_staging', if_exists='replace')\n",
    "\n",
    "print('fact_orders table created')"
   ]
  },
  {
   "cell_type": "code",
   "execution_count": null,
   "id": "af654bbf",
   "metadata": {},
   "outputs": [],
   "source": [
    "# Load data into fact_orders table\n",
    "fact_orders.to_sql(name='fact_orders', con=engine, schema='joshodey2178_staging', if_exists='append')\n",
    "\n",
    "print('fact_orders table successfully loaded')"
   ]
  },
  {
   "cell_type": "code",
   "execution_count": 69,
   "id": "e5917a79",
   "metadata": {},
   "outputs": [
    {
     "data": {
      "text/plain": [
       "0"
      ]
     },
     "execution_count": 69,
     "metadata": {},
     "output_type": "execute_result"
    }
   ],
   "source": [
    "# Create fact_reviews table in Database\n",
    "fact_reviews.head(n=0).to_sql(name='fact_reviews', con=engine, schema='joshodey2178_staging', if_exists='replace', index=False)\n",
    "\n",
    "print('fact_reviews table created')"
   ]
  },
  {
   "cell_type": "code",
   "execution_count": 71,
   "id": "3d09ec46",
   "metadata": {},
   "outputs": [
    {
     "data": {
      "text/plain": [
       "236"
      ]
     },
     "execution_count": 71,
     "metadata": {},
     "output_type": "execute_result"
    }
   ],
   "source": [
    "# Load data into fact_reviews table\n",
    "fact_reviews.to_sql(name='fact_reviews', con=engine, schema='joshodey2178_staging', if_exists='append', index=False)\n",
    "\n",
    "print('fact_reviews table successfully loaded')"
   ]
  },
  {
   "cell_type": "code",
   "execution_count": 72,
   "id": "ec7b2a06",
   "metadata": {},
   "outputs": [
    {
     "data": {
      "text/plain": [
       "0"
      ]
     },
     "execution_count": 72,
     "metadata": {},
     "output_type": "execute_result"
    }
   ],
   "source": [
    "# Create fact_shipment_deliveries table\n",
    "fact_shipment_deliveries.head(n=0).to_sql(name='fact_shipment_deliveries', con=engine, schema='joshodey2178_staging', if_exists='replace', index=False)\n",
    "\n",
    "print('fact_shipment_deliveries table created')\n"
   ]
  },
  {
   "cell_type": "code",
   "execution_count": 73,
   "id": "cda3e48b",
   "metadata": {},
   "outputs": [
    {
     "data": {
      "text/plain": [
       "1000"
      ]
     },
     "execution_count": 73,
     "metadata": {},
     "output_type": "execute_result"
    }
   ],
   "source": [
    "# Load data into fact_shipment_deliveries table\n",
    "fact_shipment_deliveries.to_sql(name='fact_shipment_deliveries', con=engine, schema='joshodey2178_staging', if_exists='append', index=False)\n",
    "\n",
    "print('fact_shipment_deliveries successfully loaded')\n"
   ]
  },
  {
   "cell_type": "code",
   "execution_count": null,
   "id": "e20a3435",
   "metadata": {},
   "outputs": [],
   "source": []
  },
  {
   "cell_type": "code",
   "execution_count": null,
   "id": "99a20743",
   "metadata": {},
   "outputs": [],
   "source": []
  }
 ],
 "metadata": {
  "kernelspec": {
   "display_name": "Python 3 (ipykernel)",
   "language": "python",
   "name": "python3"
  },
  "language_info": {
   "codemirror_mode": {
    "name": "ipython",
    "version": 3
   },
   "file_extension": ".py",
   "mimetype": "text/x-python",
   "name": "python",
   "nbconvert_exporter": "python",
   "pygments_lexer": "ipython3",
   "version": "3.10.13"
  }
 },
 "nbformat": 4,
 "nbformat_minor": 5
}
