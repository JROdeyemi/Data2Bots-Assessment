{
 "cells": [
  {
   "cell_type": "code",
   "execution_count": 1,
   "id": "ca8d7f71-8726-4d6d-abd3-ed05ecdea3c4",
   "metadata": {},
   "outputs": [],
   "source": [
    "import psycopg2\n",
    "from psycopg2 import sql\n",
    "import csv\n",
    "from dotenv import load_dotenv\n",
    "import os\n",
    "import pandas as pd\n",
    "import sqlalchemy\n",
    "from sqlalchemy import create_engine"
   ]
  },
  {
   "cell_type": "code",
   "execution_count": 2,
   "id": "c0ef554a-dd03-4e7b-abc2-cd612b4a7360",
   "metadata": {},
   "outputs": [],
   "source": [
    "# PostgreSQL database connection parameters\n",
    "db_params = {\n",
    "    'host': '75.119.135.61',\n",
    "    'port': '5732',\n",
    "    'database': 'd2b_accessment',\n",
    "    'user': 'postgres',\n",
    "    'password': 'postgres'\n",
    "}\n",
    "\n",
    "\n",
    "s_connection = psycopg2.connect(**db_params)\n",
    "s_cursor = s_connection.cursor()"
   ]
  },
  {
   "cell_type": "code",
   "execution_count": 3,
   "id": "74593025-82fa-4055-97bf-c6978266dc47",
   "metadata": {},
   "outputs": [
    {
     "data": {
      "text/plain": [
       "<sqlalchemy.engine.base.Connection at 0x7fbbb9272650>"
      ]
     },
     "execution_count": 3,
     "metadata": {},
     "output_type": "execute_result"
    }
   ],
   "source": [
    "pg_host ='75.119.135.61'\n",
    "pg_db = 'd2b_accessment'\n",
    "pg_user = 'postgres'\n",
    "pg_password = 'postgres'\n",
    "\n",
    "engine = create_engine(f'postgresql://{pg_user}:{pg_password}@{pg_host}:5732/{pg_db}')\n",
    "\n",
    "engine.connect()"
   ]
  },
  {
   "cell_type": "code",
   "execution_count": 4,
   "id": "531a5ee3-ae8a-4370-b8aa-0ece4bb8bdbe",
   "metadata": {},
   "outputs": [],
   "source": [
    "# PostgreSQL database connection parameters\n",
    "e_db_params = {\n",
    "    'host': '34.89.230.185',\n",
    "    'port': 5432,\n",
    "    'database': 'd2b_accessment',\n",
    "    'user': 'joshodey2178',\n",
    "    'password': '7nHcJ74gan'\n",
    "}\n",
    "\n",
    "\n",
    "e_connection = psycopg2.connect(**e_db_params)\n",
    "e_cursor = e_connection.cursor()"
   ]
  },
  {
   "cell_type": "code",
   "execution_count": 10,
   "id": "f664f65f-aa33-456e-b194-8f5594772b22",
   "metadata": {},
   "outputs": [
    {
     "name": "stdout",
     "output_type": "stream",
     "text": [
      "Data from table fact_reviews exported to path\n",
      "Data from table fact_orders exported to path\n",
      "Data from table fact_shipment_deliveries exported to path\n",
      "Data from table dim_addresses exported to path\n",
      "Data from table dim_customers exported to path\n",
      "Data from table dim_dates exported to path\n",
      "Data from table dim_products exported to path\n"
     ]
    }
   ],
   "source": [
    "\n",
    "# Query to get the list of tables in the schema\n",
    "tables_query = f\"SELECT table_name FROM information_schema.tables WHERE table_schema = 'joshodey2178_staging';\"\n",
    "e_cursor.execute(tables_query)\n",
    "tables = e_cursor.fetchall()\n",
    "\n",
    "# Loop to get table name, and create empty .csv file\n",
    "for table in tables:\n",
    "    table_name = table[0]\n",
    "    csv_file_path = f\"/workspaces/Data2Bots-Assessment/dim_tables/{table_name}.csv\"\n",
    "    \n",
    "    # Fetch data from the PostgreSQL table\n",
    "    data_query = f\"SELECT * FROM joshodey2178_staging.{table_name};\"\n",
    "    e_cursor.execute(data_query)\n",
    "    result = e_cursor.fetchall()\n",
    "    \n",
    "    # Write data to the empty CSV file created\n",
    "    with open(csv_file_path, 'w', newline='') as csv_file:\n",
    "        csv_writer = csv.writer(csv_file)\n",
    "        # Write the column names\n",
    "        csv_writer.writerow([desc[0] for desc in e_cursor.description])\n",
    "        # Write the rows\n",
    "        csv_writer.writerows(result)\n",
    "\n",
    "    print(f\"Data from table {table_name} exported to path\")"
   ]
  },
  {
   "cell_type": "code",
   "execution_count": 15,
   "id": "56818838-c623-48ea-b22f-ffb35f9ffffc",
   "metadata": {},
   "outputs": [],
   "source": [
    "# Read in dim_address and format types\n",
    "\n",
    "addresses_types = {\n",
    "    'postal_code': int,\n",
    "    'country': str,\n",
    "    'region': str,\n",
    "    'state': str,\n",
    "    'address': str\n",
    "    \n",
    "}\n",
    "\n",
    "\n",
    "dim_addresses = pd.read_csv('dim_tables/dim_addresses.csv', dtype=addresses_types)"
   ]
  },
  {
   "cell_type": "code",
   "execution_count": 23,
   "id": "c7081c85-1e39-49db-8d3a-f6fc3c2e27ad",
   "metadata": {},
   "outputs": [
    {
     "data": {
      "text/plain": [
       "0"
      ]
     },
     "execution_count": 23,
     "metadata": {},
     "output_type": "execute_result"
    }
   ],
   "source": [
    "dim_addresses.head(n=0).to_sql(name='dim_addresses', con=engine, schema='joshodey2178_staging', if_exists='replace')"
   ]
  },
  {
   "cell_type": "code",
   "execution_count": 24,
   "id": "5aa93a62-2195-49b6-af6e-76aed3b894d0",
   "metadata": {},
   "outputs": [
    {
     "data": {
      "text/plain": [
       "25"
      ]
     },
     "execution_count": 24,
     "metadata": {},
     "output_type": "execute_result"
    }
   ],
   "source": [
    "dim_addresses.to_sql(name='dim_addresses', con=engine, schema='joshodey2178_staging', if_exists='append', index=False)"
   ]
  },
  {
   "cell_type": "code",
   "execution_count": 7,
   "id": "8ff2fa3d-96fd-40b0-9687-69545c838a8b",
   "metadata": {},
   "outputs": [],
   "source": [
    "# Read in dim_customer and format types\n",
    "\n",
    "customers_types = {\n",
    "    'customer_id': int,\n",
    "    'customer_name': str,\n",
    "    'postal_code': str\n",
    "    \n",
    "}\n",
    "\n",
    "\n",
    "dim_customers = pd.read_csv('dim_tables/dim_customers.csv', dtype=customers_types)"
   ]
  },
  {
   "cell_type": "code",
   "execution_count": 8,
   "id": "240051fc-e97d-4d39-8d78-3bac7b713640",
   "metadata": {},
   "outputs": [
    {
     "data": {
      "text/plain": [
       "0"
      ]
     },
     "execution_count": 8,
     "metadata": {},
     "output_type": "execute_result"
    }
   ],
   "source": [
    "dim_customers.head(n=0).to_sql(name='dim_customers', con=engine, schema='joshodey2178_staging', if_exists='replace', index=False)"
   ]
  },
  {
   "cell_type": "code",
   "execution_count": 9,
   "id": "2db46378-2404-465a-bb46-7a1495216c4a",
   "metadata": {},
   "outputs": [
    {
     "data": {
      "text/plain": [
       "25"
      ]
     },
     "execution_count": 9,
     "metadata": {},
     "output_type": "execute_result"
    }
   ],
   "source": [
    "dim_customers.to_sql(name='dim_customers', con=engine, schema='joshodey2178_staging', if_exists='append', index=False)"
   ]
  },
  {
   "cell_type": "code",
   "execution_count": 4,
   "id": "11f0f19e-b244-443f-9432-98f834a4e4aa",
   "metadata": {},
   "outputs": [],
   "source": [
    "# Read in dim_date and format types\n",
    "\n",
    "date_types = {\n",
    "    'year_num': int,\n",
    "    'month_of_the_year_num': int,\n",
    "    'day_of_the_month_num': int,\n",
    "    'day_of_the_week_num': int,\n",
    "    'working_day': bool\n",
    "}\n",
    "\n",
    "\n",
    "dim_dates = pd.read_csv('dim_tables/dim_dates.csv', dtype=date_types, parse_dates=['calendar_dt'])"
   ]
  },
  {
   "cell_type": "code",
   "execution_count": 5,
   "id": "f905bc9c-c243-4f2a-b161-0e2260078524",
   "metadata": {},
   "outputs": [
    {
     "data": {
      "text/plain": [
       "0"
      ]
     },
     "execution_count": 5,
     "metadata": {},
     "output_type": "execute_result"
    }
   ],
   "source": [
    "dim_dates.head(n=0).to_sql(name='dim_dates', con=engine, schema='joshodey2178_staging', if_exists='replace', index=False)"
   ]
  },
  {
   "cell_type": "code",
   "execution_count": 6,
   "id": "23f2fb32-f806-4f80-8ed2-78a7af6cfe20",
   "metadata": {},
   "outputs": [
    {
     "data": {
      "text/plain": [
       "922"
      ]
     },
     "execution_count": 6,
     "metadata": {},
     "output_type": "execute_result"
    }
   ],
   "source": [
    "dim_dates.to_sql(name='dim_dates', con=engine, schema='joshodey2178_staging', if_exists='append', index=False)"
   ]
  },
  {
   "cell_type": "code",
   "execution_count": 5,
   "id": "ec509564-c042-4fd0-a304-3317c621a2bc",
   "metadata": {},
   "outputs": [],
   "source": [
    "# Read in dim_product and format types\n",
    "\n",
    "product_types = {\n",
    "    'product_id': int,\n",
    "    'product_name': str,\n",
    "    'product_category': str\n",
    "}\n",
    "\n",
    "\n",
    "dim_products = pd.read_csv('dim_tables/dim_products.csv', dtype=product_types)"
   ]
  },
  {
   "cell_type": "code",
   "execution_count": 6,
   "id": "464acfb6-f129-4a26-8d53-98dd80c0ebcb",
   "metadata": {},
   "outputs": [
    {
     "data": {
      "text/plain": [
       "0"
      ]
     },
     "execution_count": 6,
     "metadata": {},
     "output_type": "execute_result"
    }
   ],
   "source": [
    "dim_products.head(n=0).to_sql(name='dim_products', con=engine, schema='joshodey2178_staging', if_exists='replace', index=False)"
   ]
  },
  {
   "cell_type": "code",
   "execution_count": 7,
   "id": "744e0471-2055-4bdb-82bd-2a0ac02dd6d3",
   "metadata": {},
   "outputs": [
    {
     "data": {
      "text/plain": [
       "25"
      ]
     },
     "execution_count": 7,
     "metadata": {},
     "output_type": "execute_result"
    }
   ],
   "source": [
    "dim_products.to_sql(name='dim_products', con=engine, schema='joshodey2178_staging', if_exists='append', index=False)"
   ]
  },
  {
   "cell_type": "code",
   "execution_count": null,
   "id": "9bf359ae-5465-4802-baf6-24bb8be1cd0a",
   "metadata": {},
   "outputs": [],
   "source": []
  }
 ],
 "metadata": {
  "kernelspec": {
   "display_name": "Python 3 (ipykernel)",
   "language": "python",
   "name": "python3"
  },
  "language_info": {
   "codemirror_mode": {
    "name": "ipython",
    "version": 3
   },
   "file_extension": ".py",
   "mimetype": "text/x-python",
   "name": "python",
   "nbconvert_exporter": "python",
   "pygments_lexer": "ipython3",
   "version": "3.10.13"
  }
 },
 "nbformat": 4,
 "nbformat_minor": 5
}
