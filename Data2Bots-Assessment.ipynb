{
 "cells": [
  {
   "cell_type": "code",
   "execution_count": 35,
   "id": "195c0122",
   "metadata": {},
   "outputs": [
    {
     "name": "stdout",
     "output_type": "stream",
     "text": [
      "Collecting python-dotenv\n",
      "  Downloading python_dotenv-1.0.1-py3-none-any.whl (19 kB)\n",
      "Installing collected packages: python-dotenv\n",
      "Successfully installed python-dotenv-1.0.1\n",
      "Note: you may need to restart the kernel to use updated packages.\n"
     ]
    }
   ],
   "source": [
    "pip install python-dotenv"
   ]
  },
  {
   "cell_type": "code",
   "execution_count": 35,
   "id": "b2b48d21",
   "metadata": {},
   "outputs": [],
   "source": [
    "import psycopg"
   ]
  },
  {
   "cell_type": "code",
   "execution_count": 36,
   "id": "af39c684",
   "metadata": {},
   "outputs": [],
   "source": [
    "import pandas as pd\n",
    "import sqlalchemy\n",
    "from sqlalchemy import create_engine\n",
    "import boto3\n",
    "from botocore import UNSIGNED\n",
    "from botocore.client import Config\n",
    "from dotenv import load_dotenv\n",
    "import os\n",
    "\n"
   ]
  },
  {
   "cell_type": "code",
   "execution_count": 37,
   "id": "dd3fcc5e",
   "metadata": {},
   "outputs": [
    {
     "name": "stdout",
     "output_type": "stream",
     "text": [
      "File: orders_data/\n",
      "File: orders_data/analytics_export/faitusie8037/agg_public_holiday.csv\n",
      "File: orders_data/analytics_export/faitusie8037/agg_shipments.csv\n",
      "File: orders_data/analytics_export/faitusie8037/best_performing_product.csv\n",
      "File: orders_data/analytics_export/murtodun9658/agg_public_holiday.csv\n",
      "File: orders_data/analytics_export/murtodun9658/agg_shipments.csv\n",
      "File: orders_data/analytics_export/murtodun9658/best_performing_product.csv\n",
      "File: orders_data/analytics_export/murtodun9658/late_shipments.csv\n",
      "File: orders_data/analytics_export/murtodun9658/undelivered_shipments.csv\n",
      "File: orders_data/analytics_export/salimuti8986/agg_public_holiday.csv\n",
      "File: orders_data/analytics_export/salimuti8986/agg_shipments.csv\n",
      "File: orders_data/analytics_export/salimuti8986/best_performing_product.csv\n",
      "File: orders_data/orders.csv\n",
      "File: orders_data/reviews.csv\n",
      "File: orders_data/shipment_deliveries.csv\n"
     ]
    }
   ],
   "source": [
    "s3 = boto3.client('s3', config=Config(signature_version=UNSIGNED))\n",
    "bucket_name = \"d2b-internal-assessment-bucket\"\n",
    "\n",
    "# List all objects in the bucket\n",
    "response = s3.list_objects(Bucket=bucket_name, Prefix=\"orders_data\")\n",
    "\n",
    "# Check if there are any objects in the response\n",
    "if 'Contents' in response:\n",
    "    # Loop through each object and print its key\n",
    "    for obj in response['Contents']:\n",
    "        print(\"File:\", obj['Key'])"
   ]
  },
  {
   "cell_type": "code",
   "execution_count": 38,
   "id": "a2527ac6",
   "metadata": {},
   "outputs": [],
   "source": [
    "# Download the orders.csv\n",
    "s3.download_file(bucket_name, \"orders_data/orders.csv\", \"orders.csv\")\n",
    "\n",
    "# Download the reviews.csv\n",
    "s3.download_file(bucket_name, \"orders_data/reviews.csv\", \"reviews.csv\")\n",
    "\n",
    "# Download the orders.csv\n",
    "s3.download_file(bucket_name, \"orders_data/shipment_deliveries.csv\", \"shipment_deliveries.csv\")"
   ]
  },
  {
   "cell_type": "code",
   "execution_count": 57,
   "id": "883fe3a3",
   "metadata": {},
   "outputs": [],
   "source": [
    "# Read in fact_orders and format types\n",
    "\n",
    "orders_types = {\n",
    "    'order_id': int,\n",
    "    'customer_id': int,\n",
    "    'product_id': int,\n",
    "    'unit_price': float,\n",
    "    'quantity': int,\n",
    "    'total_price': float\n",
    "    \n",
    "}\n",
    "\n",
    "\n",
    "fact_orders = pd.read_csv('orders.csv', dtype=orders_types, parse_dates=['order_date'])\n"
   ]
  },
  {
   "cell_type": "code",
   "execution_count": 58,
   "id": "43cc0eed",
   "metadata": {},
   "outputs": [
    {
     "data": {
      "text/html": [
       "<div>\n",
       "<style scoped>\n",
       "    .dataframe tbody tr th:only-of-type {\n",
       "        vertical-align: middle;\n",
       "    }\n",
       "\n",
       "    .dataframe tbody tr th {\n",
       "        vertical-align: top;\n",
       "    }\n",
       "\n",
       "    .dataframe thead th {\n",
       "        text-align: right;\n",
       "    }\n",
       "</style>\n",
       "<table border=\"1\" class=\"dataframe\">\n",
       "  <thead>\n",
       "    <tr style=\"text-align: right;\">\n",
       "      <th></th>\n",
       "      <th>order_id</th>\n",
       "      <th>customer_id</th>\n",
       "      <th>order_date</th>\n",
       "      <th>product_id</th>\n",
       "      <th>unit_price</th>\n",
       "      <th>quantity</th>\n",
       "      <th>total_price</th>\n",
       "    </tr>\n",
       "  </thead>\n",
       "  <tbody>\n",
       "    <tr>\n",
       "      <th>0</th>\n",
       "      <td>1</td>\n",
       "      <td>5</td>\n",
       "      <td>2022-07-13</td>\n",
       "      <td>24</td>\n",
       "      <td>139.0</td>\n",
       "      <td>10</td>\n",
       "      <td>1390.0</td>\n",
       "    </tr>\n",
       "    <tr>\n",
       "      <th>1</th>\n",
       "      <td>2</td>\n",
       "      <td>14</td>\n",
       "      <td>2021-04-06</td>\n",
       "      <td>2</td>\n",
       "      <td>273.0</td>\n",
       "      <td>4</td>\n",
       "      <td>1092.0</td>\n",
       "    </tr>\n",
       "    <tr>\n",
       "      <th>2</th>\n",
       "      <td>3</td>\n",
       "      <td>17</td>\n",
       "      <td>2022-07-29</td>\n",
       "      <td>20</td>\n",
       "      <td>253.0</td>\n",
       "      <td>9</td>\n",
       "      <td>2277.0</td>\n",
       "    </tr>\n",
       "    <tr>\n",
       "      <th>3</th>\n",
       "      <td>4</td>\n",
       "      <td>14</td>\n",
       "      <td>2022-08-27</td>\n",
       "      <td>8</td>\n",
       "      <td>334.0</td>\n",
       "      <td>1</td>\n",
       "      <td>334.0</td>\n",
       "    </tr>\n",
       "    <tr>\n",
       "      <th>4</th>\n",
       "      <td>5</td>\n",
       "      <td>25</td>\n",
       "      <td>2021-12-15</td>\n",
       "      <td>6</td>\n",
       "      <td>334.0</td>\n",
       "      <td>3</td>\n",
       "      <td>1002.0</td>\n",
       "    </tr>\n",
       "  </tbody>\n",
       "</table>\n",
       "</div>"
      ],
      "text/plain": [
       "   order_id  customer_id order_date  product_id  unit_price  quantity  \\\n",
       "0         1            5 2022-07-13          24       139.0        10   \n",
       "1         2           14 2021-04-06           2       273.0         4   \n",
       "2         3           17 2022-07-29          20       253.0         9   \n",
       "3         4           14 2022-08-27           8       334.0         1   \n",
       "4         5           25 2021-12-15           6       334.0         3   \n",
       "\n",
       "   total_price  \n",
       "0       1390.0  \n",
       "1       1092.0  \n",
       "2       2277.0  \n",
       "3        334.0  \n",
       "4       1002.0  "
      ]
     },
     "execution_count": 58,
     "metadata": {},
     "output_type": "execute_result"
    }
   ],
   "source": [
    "fact_orders.head()"
   ]
  },
  {
   "cell_type": "code",
   "execution_count": 60,
   "id": "a7341076",
   "metadata": {},
   "outputs": [],
   "source": [
    "# Read in fact_reviews and format types\n",
    "\n",
    "reviews_types = {\n",
    "    'review': int,\n",
    "    'product_id': int\n",
    "}\n",
    "\n",
    "fact_reviews = pd.read_csv('reviews.csv', dtype=reviews_types)"
   ]
  },
  {
   "cell_type": "code",
   "execution_count": 62,
   "id": "b1b84689",
   "metadata": {},
   "outputs": [
    {
     "data": {
      "text/html": [
       "<div>\n",
       "<style scoped>\n",
       "    .dataframe tbody tr th:only-of-type {\n",
       "        vertical-align: middle;\n",
       "    }\n",
       "\n",
       "    .dataframe tbody tr th {\n",
       "        vertical-align: top;\n",
       "    }\n",
       "\n",
       "    .dataframe thead th {\n",
       "        text-align: right;\n",
       "    }\n",
       "</style>\n",
       "<table border=\"1\" class=\"dataframe\">\n",
       "  <thead>\n",
       "    <tr style=\"text-align: right;\">\n",
       "      <th></th>\n",
       "      <th>review</th>\n",
       "      <th>product_id</th>\n",
       "    </tr>\n",
       "  </thead>\n",
       "  <tbody>\n",
       "    <tr>\n",
       "      <th>0</th>\n",
       "      <td>1</td>\n",
       "      <td>21</td>\n",
       "    </tr>\n",
       "    <tr>\n",
       "      <th>1</th>\n",
       "      <td>3</td>\n",
       "      <td>1</td>\n",
       "    </tr>\n",
       "    <tr>\n",
       "      <th>2</th>\n",
       "      <td>2</td>\n",
       "      <td>8</td>\n",
       "    </tr>\n",
       "    <tr>\n",
       "      <th>3</th>\n",
       "      <td>1</td>\n",
       "      <td>5</td>\n",
       "    </tr>\n",
       "    <tr>\n",
       "      <th>4</th>\n",
       "      <td>5</td>\n",
       "      <td>22</td>\n",
       "    </tr>\n",
       "  </tbody>\n",
       "</table>\n",
       "</div>"
      ],
      "text/plain": [
       "   review  product_id\n",
       "0       1          21\n",
       "1       3           1\n",
       "2       2           8\n",
       "3       1           5\n",
       "4       5          22"
      ]
     },
     "execution_count": 62,
     "metadata": {},
     "output_type": "execute_result"
    }
   ],
   "source": [
    "fact_reviews.head()"
   ]
  },
  {
   "cell_type": "code",
   "execution_count": 61,
   "id": "09153cc5",
   "metadata": {},
   "outputs": [],
   "source": [
    "# Read in fact_shipment_deliveries and format types\n",
    "\n",
    "shipments_types = {\n",
    "    'shipment_id': int,\n",
    "    'order_id': int\n",
    "    \n",
    "}\n",
    "\n",
    "\n",
    "fact_shipment_deliveries = pd.read_csv('shipment_deliveries.csv', dtype=shipments_types, parse_dates=['shipment_date', 'delivery_date'])"
   ]
  },
  {
   "cell_type": "code",
   "execution_count": 63,
   "id": "c4e273d4",
   "metadata": {},
   "outputs": [
    {
     "data": {
      "text/html": [
       "<div>\n",
       "<style scoped>\n",
       "    .dataframe tbody tr th:only-of-type {\n",
       "        vertical-align: middle;\n",
       "    }\n",
       "\n",
       "    .dataframe tbody tr th {\n",
       "        vertical-align: top;\n",
       "    }\n",
       "\n",
       "    .dataframe thead th {\n",
       "        text-align: right;\n",
       "    }\n",
       "</style>\n",
       "<table border=\"1\" class=\"dataframe\">\n",
       "  <thead>\n",
       "    <tr style=\"text-align: right;\">\n",
       "      <th></th>\n",
       "      <th>shipment_id</th>\n",
       "      <th>order_id</th>\n",
       "      <th>shipment_date</th>\n",
       "      <th>delivery_date</th>\n",
       "    </tr>\n",
       "  </thead>\n",
       "  <tbody>\n",
       "    <tr>\n",
       "      <th>0</th>\n",
       "      <td>1</td>\n",
       "      <td>1</td>\n",
       "      <td>2022-07-14</td>\n",
       "      <td>NaT</td>\n",
       "    </tr>\n",
       "    <tr>\n",
       "      <th>1</th>\n",
       "      <td>2</td>\n",
       "      <td>2</td>\n",
       "      <td>NaT</td>\n",
       "      <td>NaT</td>\n",
       "    </tr>\n",
       "    <tr>\n",
       "      <th>2</th>\n",
       "      <td>3</td>\n",
       "      <td>3</td>\n",
       "      <td>2022-07-31</td>\n",
       "      <td>2022-08-03</td>\n",
       "    </tr>\n",
       "    <tr>\n",
       "      <th>3</th>\n",
       "      <td>4</td>\n",
       "      <td>4</td>\n",
       "      <td>2022-09-02</td>\n",
       "      <td>2022-09-05</td>\n",
       "    </tr>\n",
       "    <tr>\n",
       "      <th>4</th>\n",
       "      <td>5</td>\n",
       "      <td>5</td>\n",
       "      <td>2021-12-19</td>\n",
       "      <td>2021-12-20</td>\n",
       "    </tr>\n",
       "  </tbody>\n",
       "</table>\n",
       "</div>"
      ],
      "text/plain": [
       "   shipment_id  order_id shipment_date delivery_date\n",
       "0            1         1    2022-07-14           NaT\n",
       "1            2         2           NaT           NaT\n",
       "2            3         3    2022-07-31    2022-08-03\n",
       "3            4         4    2022-09-02    2022-09-05\n",
       "4            5         5    2021-12-19    2021-12-20"
      ]
     },
     "execution_count": 63,
     "metadata": {},
     "output_type": "execute_result"
    }
   ],
   "source": [
    "fact_shipment_deliveries.head()"
   ]
  },
  {
   "cell_type": "code",
   "execution_count": 46,
   "id": "eb917bbc",
   "metadata": {},
   "outputs": [],
   "source": [
    "# Load environmental variables from the .env file\n",
    "load_dotenv(\"C:\\\\Users\\\\USER\\\\Documents\\\\Data2Bots Assessment\\\\.env\")\n",
    "\n",
    "\n",
    "# Get the environmental variables\n",
    "PG_USERNAME = os.getenv(\"PG_USERNAME\")\n",
    "PG_PASS = os.getenv(\"PG_PASS\")\n",
    "PG_HOST = os.getenv(\"PG_HOST\")\n",
    "PG_DB = os.getenv(\"PG_DB\")"
   ]
  },
  {
   "cell_type": "code",
   "execution_count": 49,
   "id": "f4d3f5ec",
   "metadata": {},
   "outputs": [],
   "source": [
    "# Create PostgreSQL Connection\n",
    "engine = create_engine(f'postgresql://{PG_USERNAME}:{PG_PASS}@{PG_HOST}:5432/{PG_DB}')"
   ]
  },
  {
   "cell_type": "code",
   "execution_count": 50,
   "id": "b3cfa720",
   "metadata": {},
   "outputs": [
    {
     "data": {
      "text/plain": [
       "<sqlalchemy.engine.base.Connection at 0x21308dd6d10>"
      ]
     },
     "execution_count": 50,
     "metadata": {},
     "output_type": "execute_result"
    }
   ],
   "source": [
    "engine.connect()"
   ]
  },
  {
   "cell_type": "code",
   "execution_count": 66,
   "id": "3a2898c2",
   "metadata": {},
   "outputs": [
    {
     "name": "stdout",
     "output_type": "stream",
     "text": [
      "\n",
      "CREATE TABLE fact_orders (\n",
      "\torder_id INTEGER, \n",
      "\tcustomer_id INTEGER, \n",
      "\torder_date TIMESTAMP WITHOUT TIME ZONE, \n",
      "\tproduct_id INTEGER, \n",
      "\tunit_price FLOAT(53), \n",
      "\tquantity INTEGER, \n",
      "\ttotal_price FLOAT(53)\n",
      ")\n",
      "\n",
      "\n"
     ]
    }
   ],
   "source": [
    "print(pd.io.sql.get_schema(fact_orders, name='fact_orders', con=engine))"
   ]
  },
  {
   "cell_type": "code",
   "execution_count": 68,
   "id": "f060e832",
   "metadata": {},
   "outputs": [
    {
     "data": {
      "text/plain": [
       "1000"
      ]
     },
     "execution_count": 68,
     "metadata": {},
     "output_type": "execute_result"
    }
   ],
   "source": [
    "# Create fact_orders table in Database\n",
    "fact_orders.head(n=0).to_sql(name='fact_orders', con=engine, schema='joshodey2178_staging', if_exists='replace')"
   ]
  },
  {
   "cell_type": "code",
   "execution_count": null,
   "id": "af654bbf",
   "metadata": {},
   "outputs": [],
   "source": [
    "# Load data into fact_orders table\n",
    "fact_orders.to_sql(name='fact_orders', con=engine, schema='joshodey2178_staging', if_exists='append')"
   ]
  },
  {
   "cell_type": "code",
   "execution_count": 69,
   "id": "e5917a79",
   "metadata": {},
   "outputs": [
    {
     "data": {
      "text/plain": [
       "0"
      ]
     },
     "execution_count": 69,
     "metadata": {},
     "output_type": "execute_result"
    }
   ],
   "source": [
    "# Create fact_reviews table in Database\n",
    "fact_reviews.head(n=0).to_sql(name='fact_reviews', con=engine, schema='joshodey2178_staging', if_exists='replace', index=False)"
   ]
  },
  {
   "cell_type": "code",
   "execution_count": 71,
   "id": "3d09ec46",
   "metadata": {},
   "outputs": [
    {
     "data": {
      "text/plain": [
       "236"
      ]
     },
     "execution_count": 71,
     "metadata": {},
     "output_type": "execute_result"
    }
   ],
   "source": [
    "# Load data into fact_reviews table\n",
    "fact_reviews.to_sql(name='fact_reviews', con=engine, schema='joshodey2178_staging', if_exists='append', index=False)"
   ]
  },
  {
   "cell_type": "code",
   "execution_count": 72,
   "id": "ec7b2a06",
   "metadata": {},
   "outputs": [
    {
     "data": {
      "text/plain": [
       "0"
      ]
     },
     "execution_count": 72,
     "metadata": {},
     "output_type": "execute_result"
    }
   ],
   "source": [
    "# Create fact_shipment_deliveries table\n",
    "fact_shipment_deliveries.head(n=0).to_sql(name='fact_shipment_deliveries', con=engine, schema='joshodey2178_staging', if_exists='replace', index=False)\n"
   ]
  },
  {
   "cell_type": "code",
   "execution_count": 73,
   "id": "cda3e48b",
   "metadata": {},
   "outputs": [
    {
     "data": {
      "text/plain": [
       "1000"
      ]
     },
     "execution_count": 73,
     "metadata": {},
     "output_type": "execute_result"
    }
   ],
   "source": [
    "# Load data into fact_shipment_deliveries table\n",
    "fact_shipment_deliveries.to_sql(name='fact_shipment_deliveries', con=engine, schema='joshodey2178_staging', if_exists='append', index=False)\n"
   ]
  },
  {
   "cell_type": "code",
   "execution_count": null,
   "id": "e20a3435",
   "metadata": {},
   "outputs": [],
   "source": []
  },
  {
   "cell_type": "code",
   "execution_count": null,
   "id": "99a20743",
   "metadata": {},
   "outputs": [],
   "source": []
  }
 ],
 "metadata": {
  "kernelspec": {
   "display_name": "Python 3 (ipykernel)",
   "language": "python",
   "name": "python3"
  },
  "language_info": {
   "codemirror_mode": {
    "name": "ipython",
    "version": 3
   },
   "file_extension": ".py",
   "mimetype": "text/x-python",
   "name": "python",
   "nbconvert_exporter": "python",
   "pygments_lexer": "ipython3",
   "version": "3.10.9"
  }
 },
 "nbformat": 4,
 "nbformat_minor": 5
}
