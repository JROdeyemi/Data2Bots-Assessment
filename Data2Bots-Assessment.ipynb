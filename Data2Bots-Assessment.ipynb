{
 "cells": [
  {
   "cell_type": "code",
   "execution_count": 2,
   "id": "c80e9da2",
   "metadata": {},
   "outputs": [
    {
     "name": "stdout",
     "output_type": "stream",
     "text": [
      "Collecting boto3\n",
      "  Downloading boto3-1.34.29-py3-none-any.whl (139 kB)\n",
      "     ------------------------------------ 139.3/139.3 kB 485.3 kB/s eta 0:00:00\n",
      "Requirement already satisfied: jmespath<2.0.0,>=0.7.1 in c:\\users\\user\\anaconda3\\lib\\site-packages (from boto3) (0.10.0)\n",
      "Collecting s3transfer<0.11.0,>=0.10.0\n",
      "  Downloading s3transfer-0.10.0-py3-none-any.whl (82 kB)\n",
      "     -------------------------------------- 82.1/82.1 kB 513.5 kB/s eta 0:00:00\n",
      "Collecting botocore<1.35.0,>=1.34.29\n",
      "  Downloading botocore-1.34.29-py3-none-any.whl (11.9 MB)\n",
      "     ---------------------------------------- 11.9/11.9 MB 3.6 MB/s eta 0:00:00\n",
      "Requirement already satisfied: python-dateutil<3.0.0,>=2.1 in c:\\users\\user\\anaconda3\\lib\\site-packages (from botocore<1.35.0,>=1.34.29->boto3) (2.8.2)\n",
      "Requirement already satisfied: urllib3<2.1,>=1.25.4 in c:\\users\\user\\anaconda3\\lib\\site-packages (from botocore<1.35.0,>=1.34.29->boto3) (1.26.14)\n",
      "Requirement already satisfied: six>=1.5 in c:\\users\\user\\anaconda3\\lib\\site-packages (from python-dateutil<3.0.0,>=2.1->botocore<1.35.0,>=1.34.29->boto3) (1.16.0)\n",
      "Installing collected packages: botocore, s3transfer, boto3\n",
      "Successfully installed boto3-1.34.29 botocore-1.34.29 s3transfer-0.10.0\n"
     ]
    }
   ],
   "source": [
    "!pip install boto3"
   ]
  },
  {
   "cell_type": "code",
   "execution_count": 7,
   "id": "a172dd3c",
   "metadata": {},
   "outputs": [
    {
     "name": "stdout",
     "output_type": "stream",
     "text": [
      "File: orders_data/\n",
      "File: orders_data/analytics_export/faitusie8037/agg_public_holiday.csv\n",
      "File: orders_data/analytics_export/faitusie8037/agg_shipments.csv\n",
      "File: orders_data/analytics_export/faitusie8037/best_performing_product.csv\n",
      "File: orders_data/analytics_export/murtodun9658/agg_public_holiday.csv\n",
      "File: orders_data/analytics_export/murtodun9658/agg_shipments.csv\n",
      "File: orders_data/analytics_export/murtodun9658/best_performing_product.csv\n",
      "File: orders_data/analytics_export/murtodun9658/late_shipments.csv\n",
      "File: orders_data/analytics_export/murtodun9658/undelivered_shipments.csv\n",
      "File: orders_data/analytics_export/salimuti8986/agg_public_holiday.csv\n",
      "File: orders_data/analytics_export/salimuti8986/agg_shipments.csv\n",
      "File: orders_data/analytics_export/salimuti8986/best_performing_product.csv\n",
      "File: orders_data/orders.csv\n",
      "File: orders_data/reviews.csv\n",
      "File: orders_data/shipment_deliveries.csv\n"
     ]
    }
   ],
   "source": [
    "import boto3\n",
    "from botocore import UNSIGNED\n",
    "from botocore.client import Config\n",
    "\n",
    "\n",
    "s3 = boto3.client('s3', config=Config(signature_version=UNSIGNED))\n",
    "bucket_name = \"d2b-internal-assessment-bucket\"\n",
    "\n",
    "# List all objects in the bucket\n",
    "response = s3.list_objects(Bucket=bucket_name, Prefix=\"orders_data\")\n",
    "\n",
    "# Check if there are any objects in the response\n",
    "if 'Contents' in response:\n",
    "    # Loop through each object and print its key\n",
    "    for obj in response['Contents']:\n",
    "        print(\"File:\", obj['Key'])"
   ]
  },
  {
   "cell_type": "code",
   "execution_count": null,
   "id": "48fd5914",
   "metadata": {},
   "outputs": [],
   "source": [
    "# Download the orders.csv\n",
    "s3.download_file(bucket_name, \"orders_data/orders.csv\", \"orders.csv\")\n",
    "\n",
    "# Download the reviews.csv\n",
    "s3.download_file(bucket_name, \"orders_data/reviews.csv\", \"reviews.csv\")\n",
    "\n",
    "# Download the orders.csv\n",
    "s3.download_file(bucket_name, \"orders_data/h.csv\", \"shipment_deliveries.csv\")"
   ]
  },
  {
   "cell_type": "code",
   "execution_count": null,
   "id": "3829a048",
   "metadata": {},
   "outputs": [],
   "source": []
  },
  {
   "cell_type": "code",
   "execution_count": null,
   "id": "0566da6f",
   "metadata": {},
   "outputs": [],
   "source": []
  },
  {
   "cell_type": "code",
   "execution_count": null,
   "id": "7fcdac6f",
   "metadata": {},
   "outputs": [],
   "source": []
  },
  {
   "cell_type": "code",
   "execution_count": null,
   "id": "c192d8cd",
   "metadata": {},
   "outputs": [],
   "source": []
  }
 ],
 "metadata": {
  "kernelspec": {
   "display_name": "Python 3 (ipykernel)",
   "language": "python",
   "name": "python3"
  },
  "language_info": {
   "codemirror_mode": {
    "name": "ipython",
    "version": 3
   },
   "file_extension": ".py",
   "mimetype": "text/x-python",
   "name": "python",
   "nbconvert_exporter": "python",
   "pygments_lexer": "ipython3",
   "version": "3.10.9"
  }
 },
 "nbformat": 4,
 "nbformat_minor": 5
}
