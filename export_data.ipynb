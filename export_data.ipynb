{
 "cells": [
  {
   "cell_type": "code",
   "execution_count": null,
   "id": "03378ae0",
   "metadata": {},
   "outputs": [],
   "source": [
    "print('Exporting data...')"
   ]
  },
  {
   "cell_type": "code",
   "execution_count": 1,
   "id": "756c92c4",
   "metadata": {},
   "outputs": [],
   "source": [
    "import boto3\n",
    "from botocore import UNSIGNED\n",
    "from botocore.client import Config\n",
    "from botocore.exceptions import NoCredentialsError, PartialCredentialsError, EndpointConnectionError\n",
    "import psycopg2\n",
    "from psycopg2 import sql\n",
    "import csv\n",
    "from dotenv import load_dotenv\n",
    "import os\n",
    "\n",
    "print('All dependencies have been imported.')"
   ]
  },
  {
   "cell_type": "code",
   "execution_count": 15,
   "id": "fc2ceaa8",
   "metadata": {},
   "outputs": [],
   "source": [
    "# Creating an S3 client\n",
    "s3 = boto3.client('s3', config=Config(signature_version=UNSIGNED))\n",
    "\n",
    "# Bucket name to upload the file\n",
    "bucket_name = \"d2b-internal-assessment-bucket\"\n",
    "\n",
    "\n",
    "print('Connected to s3 Bucket.')"
   ]
  },
  {
   "cell_type": "code",
   "execution_count": 3,
   "id": "8a5ceb2b",
   "metadata": {},
   "outputs": [],
   "source": [
    "# Load environmental variables from the .env file\n",
    "load_dotenv(\"/workspaces/Data2Bots-Assessment/.env\")\n",
    "\n",
    "# Get the environmental variables\n",
    "PG_USERNAME = os.getenv(\"PG_USERNAME\")\n",
    "PG_PASS = os.getenv(\"PG_PASS\")\n",
    "PG_HOST = os.getenv(\"PG_HOST\")\n",
    "PG_DB = os.getenv(\"PG_DB\")"
   ]
  },
  {
   "cell_type": "code",
   "execution_count": 4,
   "id": "baa47cf3",
   "metadata": {},
   "outputs": [],
   "source": [
    "# PostgreSQL database connection parameters\n",
    "db_params = {\n",
    "    'host': PG_HOST,\n",
    "    'port': 5432,\n",
    "    'database': PG_DB,\n",
    "    'user': PG_USERNAME,\n",
    "    'password': PG_PASS\n",
    "}\n",
    "\n",
    "\n",
    "connection = psycopg2.connect(**db_params)\n",
    "cursor = connection.cursor()\n",
    "\n",
    "print('Database connection successfully.')"
   ]
  },
  {
   "cell_type": "code",
   "execution_count": null,
   "id": "41112b7c",
   "metadata": {},
   "outputs": [],
   "source": [
    "\n",
    "# Query to get the list of tables in the schema\n",
    "tables_query = f\"SELECT table_name FROM information_schema.tables WHERE table_schema = 'joshodey2178_analytics';\"\n",
    "cursor.execute(tables_query)\n",
    "tables = cursor.fetchall()\n",
    "\n",
    "# Loop to get table name, and create empty .csv file\n",
    "for table in tables:\n",
    "    table_name = table[0]\n",
    "    csv_file_path = f\"/workspaces/Data2Bots-Assessment/table_exports/{table_name}.csv\"\n",
    "    \n",
    "    # Fetch data from the PostgreSQL table\n",
    "    data_query = f\"SELECT * FROM joshodey2178_analytics.{table_name};\"\n",
    "    cursor.execute(data_query)\n",
    "    result = cursor.fetchall()\n",
    "    \n",
    "    # Write data to the empty CSV file created\n",
    "    with open(csv_file_path, 'w', newline='') as csv_file:\n",
    "        csv_writer = csv.writer(csv_file)\n",
    "        # Write the column names\n",
    "        csv_writer.writerow([desc[0] for desc in cursor.description])\n",
    "        # Write the rows\n",
    "        csv_writer.writerows(result)\n",
    "\n",
    "    print(f\"Data from table {table_name} exported to path\")"
   ]
  },
  {
   "cell_type": "code",
   "execution_count": null,
   "id": "a2cb7029",
   "metadata": {},
   "outputs": [],
   "source": [
    "# Specify the local directory containing CSV files\n",
    "local_directory = \"/workspaces/Data2Bots-Assessment/table_exports/\"\n",
    "\n",
    "try:\n",
    "    # Loop through each file in the local directory\n",
    "    for filename in os.listdir(local_directory):\n",
    "        if filename.endswith(\".csv\"):\n",
    "            local_file_path = os.path.join(local_directory, filename)\n",
    "            key = f\"analytics_export/joshodey2178/{filename}\"  # S3 key based on the filename\n",
    "\n",
    "            # Upload the file to S3\n",
    "            s3.upload_file(local_file_path, bucket_name, key)\n",
    "            print(f\"File {filename} uploaded to s3://{bucket_name}/{key}\")\n",
    "\n",
    "except FileNotFoundError:\n",
    "    print(f\"One or more files in {local_directory} were not found. Please check the file paths.\")\n",
    "\n",
    "    \n"
   ]
  }
 ],
 "metadata": {
  "kernelspec": {
   "display_name": "Python 3 (ipykernel)",
   "language": "python",
   "name": "python3"
  },
  "language_info": {
   "codemirror_mode": {
    "name": "ipython",
    "version": 3
   },
   "file_extension": ".py",
   "mimetype": "text/x-python",
   "name": "python",
   "nbconvert_exporter": "python",
   "pygments_lexer": "ipython3",
   "version": "3.10.13"
  }
 },
 "nbformat": 4,
 "nbformat_minor": 5
}
