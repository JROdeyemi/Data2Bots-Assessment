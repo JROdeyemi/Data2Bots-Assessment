{
 "cells": [
  {
   "cell_type": "code",
   "execution_count": 19,
   "id": "0baabcc4",
   "metadata": {},
   "outputs": [
    {
     "name": "stdout",
     "output_type": "stream",
     "text": [
      "Requirement already satisfied: psycopg2-binary in c:\\users\\user\\anaconda3\\lib\\site-packages (2.8.6)\n",
      "Collecting psycopg2-binary\n",
      "  Using cached psycopg2_binary-2.9.9-cp310-cp310-win_amd64.whl (1.2 MB)\n",
      "Installing collected packages: psycopg2-binary\n",
      "  Attempting uninstall: psycopg2-binary\n",
      "    Found existing installation: psycopg2-binary 2.8.6\n",
      "    Uninstalling psycopg2-binary-2.8.6:\n",
      "      Successfully uninstalled psycopg2-binary-2.8.6\n",
      "Successfully installed psycopg2-binary-2.9.9\n"
     ]
    }
   ],
   "source": [
    "!pip install --upgrade psycopg2-binary"
   ]
  },
  {
   "cell_type": "code",
   "execution_count": 1,
   "id": "bd69198d",
   "metadata": {},
   "outputs": [],
   "source": [
    "import boto3\n",
    "from botocore import UNSIGNED\n",
    "from botocore.client import Config\n",
    "from botocore.exceptions import NoCredentialsError, PartialCredentialsError, EndpointConnectionError\n",
    "import psycopg2\n",
    "from psycopg2 import sql\n",
    "import csv\n",
    "from dotenv import load_dotenv\n",
    "import os\n",
    "\n"
   ]
  },
  {
   "cell_type": "code",
   "execution_count": 2,
   "id": "24b0cf63",
   "metadata": {},
   "outputs": [],
   "source": [
    "# Creating an S3 client\n",
    "s3 = boto3.client('s3', config=Config(signature_version=UNSIGNED))\n",
    "\n",
    "# Bucket name and the path to upload the file\n",
    "bucket_name = \"d2b-internal-assessment-bucket\"\n",
    "key = \"analytics_export/joshodey2178/\""
   ]
  },
  {
   "cell_type": "code",
   "execution_count": 3,
   "id": "205c18d2",
   "metadata": {},
   "outputs": [],
   "source": [
    "# Load environmental variables from the .env file\n",
    "load_dotenv(\"C:\\\\Users\\\\USER\\\\Documents\\\\Data2Bots Assessment\\\\.env\")\n",
    "\n",
    "# Get the environmental variables\n",
    "PG_USERNAME = os.getenv(\"PG_USERNAME\")\n",
    "PG_PASS = os.getenv(\"PG_PASS\")\n",
    "PG_HOST = os.getenv(\"PG_HOST\")\n",
    "PG_DB = os.getenv(\"PG_DB\")"
   ]
  },
  {
   "cell_type": "code",
   "execution_count": null,
   "id": "213ddaed",
   "metadata": {},
   "outputs": [],
   "source": []
  },
  {
   "cell_type": "code",
   "execution_count": 4,
   "id": "1221c5b2",
   "metadata": {},
   "outputs": [],
   "source": [
    "# PostgreSQL database connection parameters\n",
    "db_params = {\n",
    "    'host': PG_HOST,\n",
    "    'port': 5432,\n",
    "    'database': PG_DB,\n",
    "    'user': PG_USERNAME,\n",
    "    'password': PG_PASS\n",
    "}\n",
    "\n",
    "\n",
    "connection = psycopg2.connect(**db_params)\n",
    "cursor = connection.cursor()"
   ]
  },
  {
   "cell_type": "code",
   "execution_count": 11,
   "id": "7a982695",
   "metadata": {},
   "outputs": [
    {
     "name": "stdout",
     "output_type": "stream",
     "text": [
      "Data from table agg_public_holiday exported to path\n",
      "Data from table agg_shipments exported to path\n",
      "Data from table best_performing_product exported to path\n"
     ]
    }
   ],
   "source": [
    "Expo\n",
    "\n",
    "# Query to get the list of tables in the schema\n",
    "tables_query = f\"SELECT table_name FROM information_schema.tables WHERE table_schema = 'joshodey2178_analytics';\"\n",
    "cursor.execute(tables_query)\n",
    "tables = cursor.fetchall()\n",
    "\n",
    "# Loop through each table and get ready in csv\n",
    "for table in tables:\n",
    "    table_name = table[0]\n",
    "    csv_file_path = f\"C:\\\\Users\\\\USER\\\\Documents\\\\Data2Bots Assessment\\\\table_exports\\\\{table_name}.csv\"\n",
    "    \n",
    "    # Fetch data from the PostgreSQL table\n",
    "    data_query = f\"SELECT * FROM joshodey2178_analytics.{table_name};\"\n",
    "    cursor.execute(data_query)\n",
    "    result = cursor.fetchall()\n",
    "    \n",
    "    # Write data to a CSV file\n",
    "    with open(csv_file_path, 'w', newline='') as csv_file:\n",
    "        csv_writer = csv.writer(csv_file)\n",
    "        # Write the header (column names)\n",
    "        csv_writer.writerow([desc[0] for desc in cursor.description])\n",
    "        # Write the data rows\n",
    "        csv_writer.writerows(result)\n",
    "\n",
    "    print(f\"Data from table {table_name} exported to path\")"
   ]
  },
  {
   "cell_type": "code",
   "execution_count": null,
   "id": "aa6892fc",
   "metadata": {},
   "outputs": [],
   "source": [
    "\n",
    "\n",
    "# Specify the local file path to upload\n",
    "local_file_path = \"path/to/local/best_performing_product.csv\"\n",
    "\n",
    "try:\n",
    "    # Upload the file to S3\n",
    "    s3.upload_file(local_file_path, bucket_name, key)\n",
    "    print(f\"File uploaded to s3://{bucket_name}/{key}\")\n",
    "\n",
    "except FileNotFoundError:\n",
    "    print(f\"The file {local_file_path} was not found. Please check the file path.\")\n",
    "\n",
    "except (NoCredentialsError, PartialCredentialsError):\n",
    "    print(\"Credentials not available. Please provide valid AWS credentials.\")\n",
    "\n",
    "except EndpointConnectionError:\n",
    "    print(\"Unable to connect to the S3 endpoint. Please check your network connection and S3 endpoint configuration.\")\n",
    "\n",
    "except (WaiterError, S3UploadFailedError) as e:\n",
    "    print(f\"Error during file upload: {e}\")"
   ]
  },
  {
   "cell_type": "code",
   "execution_count": null,
   "id": "6d2542ad",
   "metadata": {},
   "outputs": [],
   "source": []
  },
  {
   "cell_type": "code",
   "execution_count": null,
   "id": "9e1ef2ff",
   "metadata": {},
   "outputs": [],
   "source": []
  },
  {
   "cell_type": "code",
   "execution_count": null,
   "id": "be250f11",
   "metadata": {},
   "outputs": [],
   "source": []
  },
  {
   "cell_type": "code",
   "execution_count": null,
   "id": "4e29a644",
   "metadata": {},
   "outputs": [],
   "source": []
  },
  {
   "cell_type": "code",
   "execution_count": null,
   "id": "9fd0213a",
   "metadata": {},
   "outputs": [],
   "source": []
  }
 ],
 "metadata": {
  "kernelspec": {
   "display_name": "Python 3 (ipykernel)",
   "language": "python",
   "name": "python3"
  },
  "language_info": {
   "codemirror_mode": {
    "name": "ipython",
    "version": 3
   },
   "file_extension": ".py",
   "mimetype": "text/x-python",
   "name": "python",
   "nbconvert_exporter": "python",
   "pygments_lexer": "ipython3",
   "version": "3.10.9"
  }
 },
 "nbformat": 4,
 "nbformat_minor": 5
}
